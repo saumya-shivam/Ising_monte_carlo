{
 "cells": [
  {
   "cell_type": "code",
   "execution_count": 7,
   "metadata": {},
   "outputs": [],
   "source": [
    "# Implement cluster algorithm for monte carlo sampling of Ising configurations\n",
    "import random\n",
    "import numpy as np\n",
    "import matplotlib.pyplot as plt"
   ]
  },
  {
   "cell_type": "code",
   "execution_count": 2,
   "metadata": {},
   "outputs": [],
   "source": [
    "# H= \\sum -J_{ij}S_{i}S_{j}\n",
    "# Z=exp(-\\beta H)"
   ]
  },
  {
   "cell_type": "markdown",
   "metadata": {},
   "source": [
    "ratio of probabilities of two configurations of selected spin : exp(+/-2J)\n",
    "\n",
    "first do metropolis and then do cluster, showing difference between autocorrelations\n"
   ]
  },
  {
   "cell_type": "code",
   "execution_count": 52,
   "metadata": {},
   "outputs": [],
   "source": [
    "\n",
    "def IsingFlipProb(i,j,J,L):\n",
    "    \n",
    "    deltaE=0\n",
    "\n",
    "    if(spins[(i+1)%L][j]*spins[i][j]>0):\n",
    "        deltaE+= 2*J        \n",
    "    \n",
    "    if(spins[(i-1)%L][j]*spins[i][j]>0):\n",
    "        deltaE+= 2*J\n",
    "        \n",
    "    if(spins[i][(j+1)%L]*spins[i][j]>0):\n",
    "        deltaE+= 2*J\n",
    "    \n",
    "    if(spins[i][(j-1)%L]*spins[i][j]>0):\n",
    "        deltaE+= 2*J\n",
    "\n",
    "\n",
    "    return min(1,np.exp(-deltaE))\n",
    "\n",
    "L=10\n",
    "lag=L**2\n",
    "nsteps=18000\n",
    "eq_time=3*L*L\n",
    "\n",
    "spins=np.random.choice([-1,1],size=(L,L))\n",
    "\n",
    "J_arr=np.linspace(0,1,20)\n",
    "\n",
    "Z_exp=np.zeros(len(J_arr)) # expectation value of the spins\n",
    "\n",
    "for b,J in enumerate(J_arr):\n",
    "    \n",
    "    for n in range(nsteps):\n",
    "    \n",
    "        # random site i,j\n",
    "        i,j=np.random.randint(L,size=2)\n",
    "        \n",
    "        if(np.random.rand()<IsingFlipProb(i,j,J,L)):\n",
    "            spins[i][j]=-1*spins[i][j]\n",
    "            \n",
    "        if(n>eq_time and n%lag==0):\n",
    "            Z_exp[b]+=np.abs(np.average(spins))\n",
    "            \n",
    "            \n",
    "\n",
    "Z_exp=Z_exp/((nsteps-eq_time)//lag)\n"
   ]
  },
  {
   "cell_type": "code",
   "execution_count": 53,
   "metadata": {},
   "outputs": [
    {
     "data": {
      "text/plain": [
       "[<matplotlib.lines.Line2D at 0x7fc601b6f0f0>]"
      ]
     },
     "execution_count": 53,
     "metadata": {},
     "output_type": "execute_result"
    },
    {
     "data": {
      "image/png": "[encoded data removed]",
      "text/plain": [
       "<Figure size 432x288 with 1 Axes>"
      ]
     },
     "metadata": {
      "needs_background": "light"
     },
     "output_type": "display_data"
    }
   ],
   "source": [
    "plt.plot(J_arr,Z_exp)"
   ]
  },
  {
   "cell_type": "markdown",
   "metadata": {},
   "source": [
    "# use a graph based approach to not limit to square lattice\n",
    "\n",
    "# how to maintain the cluster?\n",
    "\n",
    "# cluster algorithm - > keep track of which nodes part of cluster, the form a connected component\n",
    "\n",
    "\n",
    "G[i]=set()\n",
    "\n",
    "V[i]=node value\n",
    "\n",
    "#initialize by taking nodes 1,2,L**2\n",
    "\n",
    "# breadth first \n",
    "\n",
    "curr= random node\n",
    "\n",
    "visited=set()\n",
    "visited.add(curr)\n",
    "\n",
    "while(curr):\n",
    "    next=[]\n",
    "    for nodes in G[curr]:\n",
    "        if(nodes not in visited and V[i]V[nodes]<0):\n",
    "            add to visited\n",
    "            flip with prob\n",
    "            \n",
    "            if(flipped)\n",
    "                add to next\n",
    "\n",
    "    curr=next\n",
    "    \n"
   ]
  },
  {
   "cell_type": "code",
   "execution_count": 74,
   "metadata": {},
   "outputs": [],
   "source": [
    "\n",
    "\n",
    "\n",
    "N= 256 # total number of nodes\n",
    "L=16\n",
    "spins=np.random.choice([-1,1],size=N)\n",
    "\n",
    "G={}\n",
    "# setup square lattice graph\n",
    "\n",
    "for i in range(L):\n",
    "    for j in range(L):\n",
    "        \n",
    "        n=i*L+j\n",
    "        G[n]=set()\n",
    "            \n",
    "        xp=(i+1)%L\n",
    "        xm=(i-1)%L\n",
    "        yp=(j+1)%L\n",
    "        ym=(j-1)%L\n",
    "\n",
    "        G[n]=set([xp*L+j,xm*L+j,i*L+yp,i*L+ym])\n",
    "        \n",
    "\n"
   ]
  },
  {
   "cell_type": "code",
   "execution_count": 35,
   "metadata": {},
   "outputs": [
    {
     "name": "stdout",
     "output_type": "stream",
     "text": [
      "{1, 10, 90, 9}\n"
     ]
    }
   ],
   "source": []
  },
  {
   "cell_type": "code",
   "execution_count": 77,
   "metadata": {},
   "outputs": [
    {
     "name": "stdout",
     "output_type": "stream",
     "text": [
      "nu 0\n",
      "nu 1\n",
      "nu 2\n",
      "nu 3\n",
      "nu 4\n",
      "nu 5\n",
      "nu 6\n",
      "nu 7\n",
      "nu 8\n",
      "nu 9\n",
      "Z_exp [ 15.796875   19.8046875  40.9296875 110.234375  183.9296875 211.9453125\n",
      " 229.1953125 241.4453125 249.46875   253.875    ]\n"
     ]
    }
   ],
   "source": [
    "\n",
    "def p_add(J):\n",
    "\n",
    "    return min(1,1-np.exp(-2*J))\n",
    "\n",
    "L=16\n",
    "N=L**2\n",
    "lag=L\n",
    "nsteps=5000\n",
    "eq_time=3*L*L\n",
    "\n",
    "spins=np.random.choice([-1,1],size=N)\n",
    "\n",
    "J_arr=np.linspace(0,2,10)\n",
    "\n",
    "Z_exp=np.zeros(len(J_arr)) # expectation value of the spins\n",
    "\n",
    "for b,J in enumerate(J_arr):\n",
    "    print(\"nu\",b)\n",
    "    for n in range(nsteps):\n",
    "    \n",
    "        # random site i\n",
    "        i=np.random.randint(N)\n",
    "        visited=set()\n",
    "        \n",
    "        curr_nodes=[i]\n",
    "        visited.add(i)\n",
    "        #flip 1st site with the probability 1\n",
    "        spins[i]=-1*spins[i]\n",
    "        \n",
    "        \n",
    "        while(len(curr_nodes)>0):\n",
    "            #print(\"curr nodes\",curr_nodes)\n",
    "            next_nodes=[]\n",
    "\n",
    "            for node in curr_nodes:\n",
    "                for neighbor in G[node]:\n",
    "                    if((spins[neighbor]!=spins[i]) and (neighbor not in visited)):\n",
    "                        visited.add(neighbor)\n",
    "                        \n",
    "                        if(np.random.rand()<p_add(J)):\n",
    "                            spins[neighbor]=-1*spins[neighbor]\n",
    "                            next_nodes.append(neighbor)\n",
    "                            \n",
    "            curr_nodes=next_nodes\n",
    "            \n",
    "        if(n>eq_time and n%lag==0):\n",
    "            Z_exp[b]+=np.abs(np.average(spins))\n",
    "            \n",
    "print(\"Z_exp\",Z_exp)            \n",
    "Z_exp=Z_exp/((nsteps-eq_time)//lag)\n"
   ]
  },
  {
   "cell_type": "code",
   "execution_count": 78,
   "metadata": {},
   "outputs": [
    {
     "data": {
      "text/plain": [
       "[<matplotlib.lines.Line2D at 0x7fc6017b8b00>]"
      ]
     },
     "execution_count": 78,
     "metadata": {},
     "output_type": "execute_result"
    },
    {
     "data": {
      "image/png": "[encoded data removed]",
      "text/plain": [
       "<Figure size 432x288 with 1 Axes>"
      ]
     },
     "metadata": {
      "needs_background": "light"
     },
     "output_type": "display_data"
    }
   ],
   "source": [
    "plt.plot(J_arr,Z_exp)"
   ]
  },
  {
   "cell_type": "code",
   "execution_count": null,
   "metadata": {},
   "outputs": [],
   "source": []
  }
 ],
 "metadata": {
  "kernelspec": {
   "display_name": "Python 3",
   "language": "python",
   "name": "python3"
  },
  "language_info": {
   "codemirror_mode": {
    "name": "ipython",
    "version": 3
   },
   "file_extension": ".py",
   "mimetype": "text/x-python",
   "name": "python",
   "nbconvert_exporter": "python",
   "pygments_lexer": "ipython3",
   "version": "3.7.3"
  }
 },
 "nbformat": 4,
 "nbformat_minor": 2
}
